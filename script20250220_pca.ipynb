{
 "cells": [
  {
   "cell_type": "code",
   "execution_count": null,
   "metadata": {},
   "outputs": [],
   "source": [
    "import numpy as np\n",
    "\n",
    "Q = np.random.rand(3, 20000) - 0.5\n",
    "Q[0, :] = Q[0, :] * 2\n",
    "Q[2, :] = 0\n",
    "\n",
    "U, S, V = np.linalg.svd(Q)\n"
   ]
  },
  {
   "cell_type": "code",
   "execution_count": 2,
   "metadata": {},
   "outputs": [
    {
     "data": {
      "text/plain": [
       "array([[-0.99999442, -0.00334112,  0.        ],\n",
       "       [-0.00334112,  0.99999442,  0.        ],\n",
       "       [ 0.        ,  0.        ,  1.        ]])"
      ]
     },
     "execution_count": 2,
     "metadata": {},
     "output_type": "execute_result"
    }
   ],
   "source": [
    "U"
   ]
  },
  {
   "cell_type": "code",
   "execution_count": null,
   "metadata": {},
   "outputs": [
    {
     "data": {
      "text/plain": [
       "array([124.68560376,  35.43080492,   0.        ])"
      ]
     },
     "execution_count": 13,
     "metadata": {},
     "output_type": "execute_result"
    }
   ],
   "source": [
    "S"
   ]
  },
  {
   "cell_type": "code",
   "execution_count": 14,
   "metadata": {},
   "outputs": [
    {
     "data": {
      "text/plain": [
       "0.501708093136501"
      ]
     },
     "execution_count": 14,
     "metadata": {},
     "output_type": "execute_result"
    }
   ],
   "source": [
    "np.mean(A)"
   ]
  },
  {
   "cell_type": "code",
   "execution_count": 3,
   "metadata": {},
   "outputs": [
    {
     "data": {
      "text/plain": [
       "array([[81.24655904,  0.        ,  0.        ],\n",
       "       [ 0.        , 40.83183455,  0.        ],\n",
       "       [ 0.        ,  0.        ,  0.        ]])"
      ]
     },
     "execution_count": 3,
     "metadata": {},
     "output_type": "execute_result"
    }
   ],
   "source": [
    "np.diag(S)"
   ]
  },
  {
   "cell_type": "code",
   "execution_count": 7,
   "metadata": {},
   "outputs": [
    {
     "data": {
      "text/plain": [
       "array([[ 2.22044605e-16, -1.11022302e-16, -1.38777878e-17, ...,\n",
       "         5.55111512e-17,  5.55111512e-17, -1.11022302e-16],\n",
       "       [ 0.00000000e+00,  0.00000000e+00,  0.00000000e+00, ...,\n",
       "         0.00000000e+00,  0.00000000e+00,  0.00000000e+00],\n",
       "       [ 0.00000000e+00,  0.00000000e+00,  0.00000000e+00, ...,\n",
       "         0.00000000e+00,  0.00000000e+00,  0.00000000e+00]])"
      ]
     },
     "execution_count": 7,
     "metadata": {},
     "output_type": "execute_result"
    }
   ],
   "source": [
    "Q - U @ np.linalg.pinv(U) @ Q"
   ]
  },
  {
   "cell_type": "code",
   "execution_count": 92,
   "metadata": {},
   "outputs": [],
   "source": [
    "import numpy as np\n",
    "\n",
    "N = 10000\n",
    "num_actions = 3\n",
    "dim = 5\n",
    "\n",
    "actions = np.random.randint(num_actions, size=(N,))\n",
    "A = np.zeros((num_actions, N))\n",
    "A[actions, np.arange(N)] = 1\n",
    "\n",
    "action_embeddings = np.random.rand(dim, num_actions) - 0.5\n",
    "action_embeddings[3:] = 0\n",
    "action_embedding, R = np.linalg.qr(action_embeddings)\n",
    "# action_embeddings = action_embeddings / np.linalg.norm(action_embeddings, axis=0, keepdims=True)\n",
    "\n",
    "Q = action_embeddings @ A \n",
    "noise = np.random.rand(dim, N) \n",
    "noise = noise / np.linalg.norm(noise, axis=0, keepdims=True)\n",
    "noise = noise * 0.01\n",
    "Ut, St, Vt = np.linalg.svd(Q + noise)\n",
    "U, S, V = np.linalg.svd(Q)"
   ]
  },
  {
   "cell_type": "code",
   "execution_count": 86,
   "metadata": {},
   "outputs": [
    {
     "data": {
      "text/plain": [
       "array([[ 0.23986393,  0.4990429 , -0.35772601, ...,  0.23986393,\n",
       "        -0.35772601,  0.23986393],\n",
       "       [-0.45946547,  0.12582251,  0.03772378, ..., -0.45946547,\n",
       "         0.03772378, -0.45946547],\n",
       "       [-0.22891403,  0.21716107,  0.07508966, ..., -0.22891403,\n",
       "         0.07508966, -0.22891403],\n",
       "       [ 0.        ,  0.        ,  0.        , ...,  0.        ,\n",
       "         0.        ,  0.        ],\n",
       "       [ 0.        ,  0.        ,  0.        , ...,  0.        ,\n",
       "         0.        ,  0.        ]])"
      ]
     },
     "execution_count": 86,
     "metadata": {},
     "output_type": "execute_result"
    }
   ],
   "source": [
    "Q"
   ]
  },
  {
   "cell_type": "code",
   "execution_count": 87,
   "metadata": {},
   "outputs": [
    {
     "data": {
      "text/plain": [
       "array([[-9.57868016e-01, -2.54579399e-01,  1.32809446e-01,\n",
       "        -8.22524614e-05, -6.31176075e-03],\n",
       "       [ 2.84864196e-01, -7.84069219e-01,  5.49231052e-01,\n",
       "        -4.19591048e-04, -4.93246928e-02],\n",
       "       [ 3.62000507e-02, -5.66058510e-01, -8.20728666e-01,\n",
       "         6.23370816e-04,  6.83475463e-02],\n",
       "       [-3.92725609e-03,  1.13625635e-03, -5.93266077e-02,\n",
       "         7.04370226e-01, -7.07337419e-01],\n",
       "       [-3.92263826e-03,  1.12337647e-03, -5.99308958e-02,\n",
       "        -7.09832384e-01, -7.01804549e-01]])"
      ]
     },
     "execution_count": 87,
     "metadata": {},
     "output_type": "execute_result"
    }
   ],
   "source": [
    "U"
   ]
  },
  {
   "cell_type": "code",
   "execution_count": 93,
   "metadata": {},
   "outputs": [
    {
     "data": {
      "text/plain": [
       "array([-0.1775158 ,  0.0834946 , -0.23099521,  0.23859198,  0.18178766])"
      ]
     },
     "execution_count": 93,
     "metadata": {},
     "output_type": "execute_result"
    }
   ],
   "source": [
    "St - S"
   ]
  },
  {
   "cell_type": "code",
   "execution_count": 89,
   "metadata": {},
   "outputs": [
    {
     "data": {
      "text/plain": [
       "array([[-9.50319443e-03, -1.11431760e-02,  9.04425877e-03, ...,\n",
       "        -9.60147849e-03,  9.06348948e-03, -9.57003574e-03],\n",
       "       [ 1.32669129e-02, -1.11423628e-02,  3.80810669e-04, ...,\n",
       "         1.32705916e-02,  3.07529094e-04,  1.32165940e-02],\n",
       "       [-5.91818438e-03, -7.52368884e-03, -1.43665303e-02, ...,\n",
       "        -5.47518748e-03, -1.45555387e-02, -4.76358591e-03],\n",
       "       ...,\n",
       "       [-6.68960859e-03,  1.54889342e-02, -3.52339167e-03, ...,\n",
       "         9.99572264e-01,  1.89824473e-04, -3.61047080e-04],\n",
       "       [ 8.72167103e-03,  2.96540936e-04, -1.46345317e-02, ...,\n",
       "         1.82204234e-04,  9.99171557e-01, -1.57439565e-04],\n",
       "       [-6.75657972e-03,  1.53876404e-02, -2.72877987e-03, ...,\n",
       "        -3.64052626e-04, -1.44974389e-04,  9.99429203e-01]])"
      ]
     },
     "execution_count": 89,
     "metadata": {},
     "output_type": "execute_result"
    }
   ],
   "source": [
    "V"
   ]
  },
  {
   "cell_type": "code",
   "execution_count": 64,
   "metadata": {},
   "outputs": [
    {
     "name": "stdout",
     "output_type": "stream",
     "text": [
      "[2.3529506  3.22776813 1.53774805        nan        nan]\n",
      "[1.80896276 1.55126485 2.65021885        nan        nan]\n",
      "[-5.94573998 -1.94413769  0.90884268         nan         nan]\n",
      "[ 0.7890862   3.48793338 -3.50036924         nan         nan]\n",
      "[ 0.60665428  1.67630023 -6.03268173         nan         nan]\n",
      "[-1.9939651  -2.10083949 -2.06879466         nan         nan]\n",
      "[ 1.10572706 -9.35769723 -0.77428884         nan         nan]\n",
      "[ 0.8500897  -4.49730781 -1.33444155         nan         nan]\n",
      "[-2.79409419  5.63629453 -0.45762162         nan         nan]\n"
     ]
    },
    {
     "name": "stderr",
     "output_type": "stream",
     "text": [
      "/tmp/ipykernel_2006709/996300446.py:1: RuntimeWarning: invalid value encountered in divide\n",
      "  print(U[:, 0] / action_embeddings[:, 0])\n",
      "/tmp/ipykernel_2006709/996300446.py:2: RuntimeWarning: invalid value encountered in divide\n",
      "  print(U[:, 0] / action_embeddings[:, 1])\n",
      "/tmp/ipykernel_2006709/996300446.py:3: RuntimeWarning: invalid value encountered in divide\n",
      "  print(U[:, 0] / action_embeddings[:, 2])\n",
      "/tmp/ipykernel_2006709/996300446.py:4: RuntimeWarning: invalid value encountered in divide\n",
      "  print(U[:, 1] / action_embeddings[:, 0])\n",
      "/tmp/ipykernel_2006709/996300446.py:5: RuntimeWarning: invalid value encountered in divide\n",
      "  print(U[:, 1] / action_embeddings[:, 1])\n",
      "/tmp/ipykernel_2006709/996300446.py:6: RuntimeWarning: invalid value encountered in divide\n",
      "  print(U[:, 1] / action_embeddings[:, 2])\n",
      "/tmp/ipykernel_2006709/996300446.py:7: RuntimeWarning: invalid value encountered in divide\n",
      "  print(U[:, 2] / action_embeddings[:, 0])\n",
      "/tmp/ipykernel_2006709/996300446.py:8: RuntimeWarning: invalid value encountered in divide\n",
      "  print(U[:, 2] / action_embeddings[:, 1])\n",
      "/tmp/ipykernel_2006709/996300446.py:9: RuntimeWarning: invalid value encountered in divide\n",
      "  print(U[:, 2] / action_embeddings[:, 2])\n"
     ]
    }
   ],
   "source": [
    "print(U[:, 0] / action_embeddings[:, 0])\n",
    "print(U[:, 0] / action_embeddings[:, 1])\n",
    "print(U[:, 0] / action_embeddings[:, 2])\n",
    "print(U[:, 1] / action_embeddings[:, 0])\n",
    "print(U[:, 1] / action_embeddings[:, 1])\n",
    "print(U[:, 1] / action_embeddings[:, 2])\n",
    "print(U[:, 2] / action_embeddings[:, 0])\n",
    "print(U[:, 2] / action_embeddings[:, 1])\n",
    "print(U[:, 2] / action_embeddings[:, 2])"
   ]
  },
  {
   "cell_type": "code",
   "execution_count": 66,
   "metadata": {},
   "outputs": [
    {
     "data": {
      "text/plain": [
       "5.551115123125783e-17"
      ]
     },
     "execution_count": 66,
     "metadata": {},
     "output_type": "execute_result"
    }
   ],
   "source": [
    "np.dot(U[:, 0], U[:, 2])"
   ]
  },
  {
   "cell_type": "code",
   "execution_count": null,
   "metadata": {},
   "outputs": [],
   "source": []
  }
 ],
 "metadata": {
  "kernelspec": {
   "display_name": "base",
   "language": "python",
   "name": "python3"
  },
  "language_info": {
   "codemirror_mode": {
    "name": "ipython",
    "version": 3
   },
   "file_extension": ".py",
   "mimetype": "text/x-python",
   "name": "python",
   "nbconvert_exporter": "python",
   "pygments_lexer": "ipython3",
   "version": "3.11.7"
  }
 },
 "nbformat": 4,
 "nbformat_minor": 2
}
